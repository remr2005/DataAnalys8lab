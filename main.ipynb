{
 "cells": [
  {
   "cell_type": "code",
   "execution_count": 5,
   "metadata": {},
   "outputs": [],
   "source": [
    "# данные\n",
    "inputs_1 = [\n",
    "        ({'level': 'Senior', 'lang': 'Java', 'tweets': 'no', 'phd': 'no'}, False),\n",
    "        ({'level': 'Senior', 'lang': 'Java', 'tweets': 'no', 'phd': 'yes'}, False),\n",
    "        ({'level': 'Mid', 'lang': 'Python', 'tweets': 'no', 'phd': 'no'}, True),\n",
    "        ({'level': 'Junior', 'lang': 'Python', 'tweets': 'no', 'phd': 'no'}, True),\n",
    "        ({'level': 'Junior', 'lang': 'Python', 'tweets': 'no', 'phd': 'yes'}, False),\n",
    "        ({'level': 'Senior', 'lang': 'Python', 'tweets': 'yes', 'phd': 'yes'}, True),\n",
    "        ({'level': 'Mid', 'lang': 'Java', 'tweets': 'yes', 'phd': 'no'}, False),\n",
    "        ({'level': 'Mid', 'lang': 'C++', 'tweets': 'no', 'phd': 'yes'}, True),\n",
    "        ({'level': 'Junior', 'lang': 'C++', 'tweets': 'yes', 'phd': 'no'}, False),\n",
    "        ({'level': 'Senior', 'lang': 'Go', 'tweets': 'yes', 'phd': 'no'}, True),\n",
    "        ({'level': 'Junior', 'lang': 'Java', 'tweets': 'no', 'phd': 'no'}, True),\n",
    "        ({'level': 'Mid', 'lang': 'Go', 'tweets': 'no', 'phd': 'yes'}, True),\n",
    "        ({'level': 'Senior', 'lang': 'Python', 'tweets': 'no', 'phd': 'no'}, True),\n",
    "        ({'level': 'Junior', 'lang': 'Go', 'tweets': 'yes', 'phd': 'yes'}, False),\n",
    "        ({'level': 'Mid', 'lang': 'Java', 'tweets': 'no', 'phd': 'yes'}, False),\n",
    "        ({'level': 'Senior', 'lang': 'C++', 'tweets': 'yes', 'phd': 'no'}, False),\n",
    "        ({'level': 'Junior', 'lang': 'C++', 'tweets': 'no', 'phd': 'yes'}, False),\n",
    "        ({'level': 'Mid', 'lang': 'Python', 'tweets': 'yes', 'phd': 'yes'}, True),\n",
    "        ({'level': 'Senior', 'lang': 'JavaScript', 'tweets': 'no', 'phd': 'yes'}, False),\n",
    "        ({'level': 'Mid', 'lang': 'JavaScript', 'tweets': 'yes', 'phd': 'no'}, True),\n",
    "        ({'level': 'Junior', 'lang': 'JavaScript', 'tweets': 'yes', 'phd': 'no'}, True),\n",
    "        ({'level': 'Senior', 'lang': 'Ruby', 'tweets': 'no', 'phd': 'yes'}, False),\n",
    "        ({'level': 'Mid', 'lang': 'Ruby', 'tweets': 'no', 'phd': 'yes'}, True),\n",
    "        ({'level': 'Junior', 'lang': 'Ruby', 'tweets': 'yes', 'phd': 'no'}, True),\n",
    "        ({'level': 'Senior', 'lang': 'Go', 'tweets': 'no', 'phd': 'yes'}, True),\n",
    "        ({'level': 'Mid', 'lang': 'Go', 'tweets': 'yes', 'phd': 'no'}, True),\n",
    "        ({'level': 'Junior', 'lang': 'Go', 'tweets': 'no', 'phd': 'yes'}, False),\n",
    "        ({'level': 'Senior', 'lang': 'PHP', 'tweets': 'yes', 'phd': 'no'}, False),\n",
    "        ({'level': 'Mid', 'lang': 'PHP', 'tweets': 'no', 'phd': 'yes'}, True),\n",
    "        ({'level': 'Junior', 'lang': 'PHP', 'tweets': 'yes', 'phd': 'no'}, False),\n",
    "        ({'level': 'Senior', 'lang': 'Java', 'tweets': 'yes', 'phd': 'no'}, True),\n",
    "        ({'level': 'Mid', 'lang': 'Java', 'tweets': 'no', 'phd': 'no'}, False),\n",
    "        ({'level': 'Junior', 'lang': 'Java', 'tweets': 'yes', 'phd': 'yes'}, True),\n",
    "        ({'level': 'Senior', 'lang': 'C++', 'tweets': 'no', 'phd': 'yes'}, False),\n",
    "        ({'level': 'Mid', 'lang': 'C++', 'tweets': 'yes', 'phd': 'no'}, True),\n",
    "    ]\n",
    "# данные про студентов\n",
    "students_data = [\n",
    "        ({\"program\": \"090301\", \"past_debt\": \"no\", \"earlier_debt\": \"no\", \"attendance_class\": \"more 80%\", \"vk_registered\": \"yes\", \"classroom_registered\": \"yes\", \"athlete\": \"no\", \"active_in_events\": \"yes\", \"teacher_feedback\": \"excellent\"}, True),\n",
    "        ({\"program\": \"090301\", \"past_debt\": \"yes\", \"earlier_debt\": \"yes\", \"attendance_class\": \"less 30%\", \"vk_registered\": \"no\", \"classroom_registered\": \"no\", \"athlete\": \"no\", \"active_in_events\": \"no\", \"teacher_feedback\": \"bad\"}, False),\n",
    "        ({\"program\": \"090304\", \"past_debt\": \"no\", \"earlier_debt\": \"no\", \"attendance_class\": \"50% to 80%\", \"vk_registered\": \"yes\", \"classroom_registered\": \"yes\", \"athlete\": \"yes\", \"active_in_events\": \"yes\", \"teacher_feedback\": \"good\"}, True),\n",
    "        ({\"program\": \"100503\", \"past_debt\": \"yes\", \"earlier_debt\": \"no\", \"attendance_class\": \"30% to 50%\", \"vk_registered\": \"yes\", \"classroom_registered\": \"no\", \"athlete\": \"no\", \"active_in_events\": \"no\", \"teacher_feedback\": \"good\"}, False),\n",
    "        ({\"program\": \"090301\", \"past_debt\": \"no\", \"earlier_debt\": \"yes\", \"attendance_class\": \"less 30%\", \"vk_registered\": \"no\", \"classroom_registered\": \"no\", \"athlete\": \"no\", \"active_in_events\": \"no\", \"teacher_feedback\": \"bad\"}, False),\n",
    "        ({\"program\": \"100503\", \"past_debt\": \"no\", \"earlier_debt\": \"no\", \"attendance_class\": \"more 80%\", \"vk_registered\": \"yes\", \"classroom_registered\": \"yes\", \"athlete\": \"yes\", \"active_in_events\": \"yes\", \"teacher_feedback\": \"excellent\"}, True),\n",
    "        ({\"program\": \"090304\", \"past_debt\": \"yes\", \"earlier_debt\": \"yes\", \"attendance_class\": \"30% to 50%\", \"vk_registered\": \"no\", \"classroom_registered\": \"no\", \"athlete\": \"no\", \"active_in_events\": \"no\", \"teacher_feedback\": \"bad\"}, False),\n",
    "        ({\"program\": \"090301\", \"past_debt\": \"no\", \"earlier_debt\": \"no\", \"attendance_class\": \"50% to 80%\", \"vk_registered\": \"yes\", \"classroom_registered\": \"no\", \"athlete\": \"yes\", \"active_in_events\": \"yes\", \"teacher_feedback\": \"good\"}, True),\n",
    "        ({\"program\": \"100503\", \"past_debt\": \"no\", \"earlier_debt\": \"yes\", \"attendance_class\": \"more 80%\", \"vk_registered\": \"yes\", \"classroom_registered\": \"yes\", \"athlete\": \"no\", \"active_in_events\": \"no\", \"teacher_feedback\": \"good\"}, True),\n",
    "        ({\"program\": \"090301\", \"past_debt\": \"no\", \"earlier_debt\": \"yes\", \"attendance_class\": \"30% to 50%\", \"vk_registered\": \"yes\", \"classroom_registered\": \"no\", \"athlete\": \"no\", \"active_in_events\": \"no\", \"teacher_feedback\": \"bad\"}, False),\n",
    "        ({\"program\": \"090304\", \"past_debt\": \"yes\", \"earlier_debt\": \"yes\", \"attendance_class\": \"less 30%\", \"vk_registered\": \"no\", \"classroom_registered\": \"no\", \"athlete\": \"no\", \"active_in_events\": \"no\", \"teacher_feedback\": \"bad\"}, False),\n",
    "        ({\"program\": \"100503\", \"past_debt\": \"no\", \"earlier_debt\": \"no\", \"attendance_class\": \"50% to 80%\", \"vk_registered\": \"yes\", \"classroom_registered\": \"yes\", \"athlete\": \"no\", \"active_in_events\": \"yes\", \"teacher_feedback\": \"excellent\"}, True),\n",
    "        ({\"program\": \"090301\", \"past_debt\": \"yes\", \"earlier_debt\": \"no\", \"attendance_class\": \"30% to 50%\", \"vk_registered\": \"yes\", \"classroom_registered\": \"no\", \"athlete\": \"no\", \"active_in_events\": \"no\", \"teacher_feedback\": \"good\"}, False),\n",
    "        ({\"program\": \"090304\", \"past_debt\": \"no\", \"earlier_debt\": \"no\", \"attendance_class\": \"more 80%\", \"vk_registered\": \"yes\", \"classroom_registered\": \"yes\", \"athlete\": \"no\", \"active_in_events\": \"yes\", \"teacher_feedback\": \"excellent\"}, True),\n",
    "        ({\"program\": \"100503\", \"past_debt\": \"yes\", \"earlier_debt\": \"no\", \"attendance_class\": \"30% to 50%\", \"vk_registered\": \"no\", \"classroom_registered\": \"yes\", \"athlete\": \"yes\", \"active_in_events\": \"no\", \"teacher_feedback\": \"good\"}, True),\n",
    "        ({\"program\": \"090301\", \"past_debt\": \"no\", \"earlier_debt\": \"yes\", \"attendance_class\": \"more 80%\", \"vk_registered\": \"yes\", \"classroom_registered\": \"yes\", \"athlete\": \"no\", \"active_in_events\": \"yes\", \"teacher_feedback\": \"good\"}, True),\n",
    "        ({\"program\": \"090304\", \"past_debt\": \"yes\", \"earlier_debt\": \"no\", \"attendance_class\": \"less 30%\", \"vk_registered\": \"no\", \"classroom_registered\": \"no\", \"athlete\": \"no\", \"active_in_events\": \"no\", \"teacher_feedback\": \"bad\"}, False),\n",
    "        ({\"program\": \"100503\", \"past_debt\": \"no\", \"earlier_debt\": \"no\", \"attendance_class\": \"50% to 80%\", \"vk_registered\": \"yes\", \"classroom_registered\": \"yes\", \"athlete\": \"yes\", \"active_in_events\": \"yes\", \"teacher_feedback\": \"excellent\"}, True),\n",
    "        ({\"program\": \"090304\", \"past_debt\": \"yes\", \"earlier_debt\": \"yes\", \"attendance_class\": \"30% to 50%\", \"vk_registered\": \"no\", \"classroom_registered\": \"no\", \"athlete\": \"no\", \"active_in_events\": \"no\", \"teacher_feedback\": \"bad\"}, False),\n",
    "        ({\"program\": \"090301\", \"past_debt\": \"no\", \"earlier_debt\": \"no\", \"attendance_class\": \"more 80%\", \"vk_registered\": \"yes\", \"classroom_registered\": \"yes\", \"athlete\": \"no\", \"active_in_events\": \"yes\", \"teacher_feedback\": \"excellent\"}, True)\n",
    "    ]\n"
   ]
  },
  {
   "cell_type": "markdown",
   "metadata": {},
   "source": [
    "4.2.1. Постройте дерево принятия решений, которое получится в результате полной проработки примера из методических рекомендаций (доделайте дерево дальше). Для этого создайте около 20 строк данных, максимально приближенных к реальности на ваш взгляд. "
   ]
  },
  {
   "cell_type": "code",
   "execution_count": 6,
   "metadata": {},
   "outputs": [
    {
     "name": "stdout",
     "output_type": "stream",
     "text": [
      "False\n"
     ]
    }
   ],
   "source": [
    "from dsmltf import classify, build_tree_id3\n",
    "tree = build_tree_id3(inputs_1)\n",
    "print(classify(tree, {'level': 'Senior', 'lang': 'Java', 'tweets': 'no', 'phd': 'no'}))"
   ]
  },
  {
   "cell_type": "markdown",
   "metadata": {},
   "source": [
    "4.2.2*. Создайте данные и постройте ДПР для предсказания успешности прохождения собеседования кандидатом. Критерии и их значения можете выбрать самостоятельно."
   ]
  },
  {
   "cell_type": "code",
   "execution_count": 7,
   "metadata": {},
   "outputs": [
    {
     "name": "stdout",
     "output_type": "stream",
     "text": [
      "True\n"
     ]
    }
   ],
   "source": [
    "tree = build_tree_id3(students_data)\n",
    "print(classify(tree, {\"program\": \"090301\", \"past_debt\": \"no\", \"earlier_debt\": \"no\", \"attendance_class\": \"more 80%\", \"vk_registered\": \"yes\", \"classroom_registered\": \"yes\", \"athlete\": \"no\", \"active_in_events\": \"yes\", \"teacher_feedback\": \"excellent\"}))"
   ]
  }
 ],
 "metadata": {
  "kernelspec": {
   "display_name": "Python 3",
   "language": "python",
   "name": "python3"
  },
  "language_info": {
   "codemirror_mode": {
    "name": "ipython",
    "version": 3
   },
   "file_extension": ".py",
   "mimetype": "text/x-python",
   "name": "python",
   "nbconvert_exporter": "python",
   "pygments_lexer": "ipython3",
   "version": "3.10.0"
  }
 },
 "nbformat": 4,
 "nbformat_minor": 2
}

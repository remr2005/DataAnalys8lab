{
 "cells": [
  {
   "cell_type": "markdown",
   "metadata": {},
   "source": [
    "4.2.1. Постройте дерево принятия решений, которое получится в результате полной проработки примера из методических рекомендаций (доделайте дерево дальше). Для этого создайте около 20 строк данных, максимально приближенных к реальности на ваш взгляд. "
   ]
  },
  {
   "cell_type": "code",
   "execution_count": null,
   "metadata": {
    "vscode": {
     "languageId": "plaintext"
    }
   },
   "outputs": [],
   "source": []
  },
  {
   "cell_type": "markdown",
   "metadata": {},
   "source": [
    "4.2.2*. Создайте данные и постройте ДПР для предсказания успешности прохождения собеседования кандидатом. Критерии и их значения можете выбрать самостоятельно."
   ]
  },
  {
   "cell_type": "code",
   "execution_count": null,
   "metadata": {
    "vscode": {
     "languageId": "plaintext"
    }
   },
   "outputs": [],
   "source": []
  }
 ],
 "metadata": {
  "language_info": {
   "name": "python"
  }
 },
 "nbformat": 4,
 "nbformat_minor": 2
}
